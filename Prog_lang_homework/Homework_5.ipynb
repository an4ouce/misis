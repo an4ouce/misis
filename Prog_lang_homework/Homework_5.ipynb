{
 "cells": [
  {
   "cell_type": "markdown",
   "id": "fdbc4e6f",
   "metadata": {},
   "source": [
    "# Домашнее задание 5: итоговое"
   ]
  },
  {
   "cell_type": "markdown",
   "id": "c7a89a0c",
   "metadata": {},
   "source": [
    "## Задача 1: Стек\n",
    "\n",
    "Мы уже говорили, что в программировании нередко необходимо создавать свои собственные структуры данных на основе уже существующих. Одним из таких “базовых” структур является стек.\n",
    "Стек - это абстрактный тип данных, представляющий собой список элементов, организованных по принципу LIFO (англ. last in — first out, «последним пришёл — первым вышел»).\n",
    "\n",
    "Простой пример: стек из книг на столе. Единственной книгой, чья обложка видна, является самая верхняя. Чтобы получить доступ к, например, третьей снизу книге, нам нужно убрать все книги, лежащие сверху, одну за другой.\n",
    "\n",
    "Напишите класс, который реализует Стек и его возможности (достаточно будет добавления и удаления элемента).\n",
    "\n",
    "После этого напишите ещё один класс “Менеджер задач”. В менеджере задач можно выполнить команду “новая задача”, в которую передаётся сама задача (str) и её приоритет (int). Сам менеджер работает на основе Стэка (не наследование!).  При выводе менеджера в консоль все задачи должны быть отсортированы по приоритету: чем меньше число, тем выше задача.\n",
    "\n",
    "Дополнительно: реализуйте также удаление задач и подумайте, что делать с дубликатами."
   ]
  },
  {
   "cell_type": "code",
   "execution_count": 1,
   "id": "222f3598",
   "metadata": {},
   "outputs": [],
   "source": [
    "class Stack:\n",
    "    def __init__(self):\n",
    "        self.l = []\n",
    " \n",
    "    def __str__(self):\n",
    "        return str(\"; \".join(self.l))\n",
    " \n",
    "    def add(self, i):\n",
    "        self.l.append(i)\n",
    " \n",
    "    def pop(self):\n",
    "        if len(self.l) == 0:\n",
    "            return None\n",
    "        return self.l.pop()\n",
    " \n",
    " \n",
    "class TaskManager:\n",
    "    def __init__(self):\n",
    "        self.task = dict()\n",
    " \n",
    "    def __str__(self):\n",
    "        string = \"\"\n",
    "        for i in sorted(self.task.keys()):\n",
    "            string += str(i) + \" \" + str(self.task[i]) + \"\\n\"\n",
    "        return string\n",
    " \n",
    "    def new_task(self, task, priority):\n",
    "        if not priority in self.task.keys():\n",
    "            self.task[priority] = Stack()\n",
    "            self.task[priority].add(task)\n",
    "        else:\n",
    "            new_stack = Stack()\n",
    "            while len(str(self.task[priority])) != 0:\n",
    "                value = self.task[priority].pop()\n",
    "                if value != task:\n",
    "                    new_stack.add(value)\n",
    "            new_stack.add(task)\n",
    "            self.task[priority] = new_stack\n",
    " \n",
    "    def delete_task(self, priority):\n",
    "        if not priority in self.task.keys():\n",
    "            print(\"Задачи с таким приоритетом нет\")\n",
    "        else:\n",
    "            print(f\"Задача {self.task[priority].pop()} удалена\")\n",
    "            if len(str(self.task[priority])) == 0:\n",
    "                self.task.pop(priority)"
   ]
  },
  {
   "cell_type": "code",
   "execution_count": 2,
   "id": "4636dc4b",
   "metadata": {},
   "outputs": [],
   "source": [
    "manager = TaskManager()\n",
    "manager.new_task(\"сделать уборку\", 4)\n",
    "manager.new_task(\"помыть посуду\", 4)\n",
    "manager.new_task(\"отдохнуть\", 1)\n",
    "manager.new_task(\"поесть\", 2)\n",
    "manager.new_task(\"сдать дз\", 2)"
   ]
  },
  {
   "cell_type": "code",
   "execution_count": 3,
   "id": "d751a82e",
   "metadata": {},
   "outputs": [
    {
     "name": "stdout",
     "output_type": "stream",
     "text": [
      "1 отдохнуть\n",
      "2 поесть; сдать дз\n",
      "4 сделать уборку; помыть посуду\n",
      "\n"
     ]
    }
   ],
   "source": [
    "print(manager)"
   ]
  },
  {
   "cell_type": "code",
   "execution_count": 4,
   "id": "318cc9e8",
   "metadata": {},
   "outputs": [
    {
     "name": "stdout",
     "output_type": "stream",
     "text": [
      "Задача помыть посуду удалена\n",
      "Задача отдохнуть удалена\n",
      "2 поесть; сдать дз\n",
      "4 сделать уборку\n",
      "\n"
     ]
    }
   ],
   "source": [
    "manager.delete_task(4)\n",
    "manager.delete_task(1)\n",
    "print(manager)"
   ]
  },
  {
   "cell_type": "markdown",
   "id": "b2e73786",
   "metadata": {},
   "source": [
    "## Задача 2: Кэширование запросов\n",
    "Контекст\n",
    "Вы разрабатываете программу для кэширования запросов к внешнему API. Часто повторяющиеся запросы занимают много времени, поэтому вы решаете создать класс LRU Cache (Least Recently Used Cache), который будет хранить ограниченное количество запросов и автоматически удалять самые старые при достижении лимита. Это позволит значительно ускорить повторяющиеся запросы, так как данные будут браться из кэша, а не отправляться повторно. \n",
    "\n",
    "*Задача*\n",
    "\n",
    "1. Создайте класс LRU Cache, который хранит ограниченное количество объектов и, при превышении лимита, удаляет самые давние (самые старые) использованные элементы.\n",
    "2. Реализуйте методы добавления и извлечения элементов с использованием декораторов property и setter.\n",
    "\n",
    "Не забывайте обновлять порядок использованных элементов. В итоге должны удаляться давно использованные элементы, а не давно добавленные, так как давно добавленный элемент может быть популярен, и его удаление не поможет ускорить новые запросы."
   ]
  },
  {
   "cell_type": "code",
   "execution_count": 5,
   "id": "12c79808",
   "metadata": {},
   "outputs": [],
   "source": [
    "class LRUCache: \n",
    "    \n",
    "    def __init__(self, capacity): \n",
    "        from collections import OrderedDict\n",
    "        self.capacity = capacity \n",
    "        self.cache_dict = OrderedDict()\n",
    "    \n",
    "    @property\n",
    "    def cache(self): \n",
    "        if self.key in self.cache_dict:\n",
    "            return self.cache_dict.move_to_end(self.key, last=True)\n",
    "        return self.cache_dict \n",
    " \n",
    "    @cache.setter \n",
    "    def cache(self, new): \n",
    "        if len(self.cache_dict) >= self.capacity: \n",
    "            self.cache_dict.popitem(last=False)  \n",
    "        self.cache_dict[new[0]] = new[1] \n",
    " \n",
    "    def print_cache(self): \n",
    "        print(\"LRU Cache:\") \n",
    "        for key, value in self.cache_dict.items(): \n",
    "            print(f\"{key} : {value}\") \n",
    "            \n",
    "    def get(self, key): \n",
    "        return self.cache_dict.get(key)"
   ]
  },
  {
   "cell_type": "code",
   "execution_count": 6,
   "id": "8811a83a",
   "metadata": {},
   "outputs": [],
   "source": [
    "cache = LRUCache(6)"
   ]
  },
  {
   "cell_type": "code",
   "execution_count": 7,
   "id": "cf0d32ea",
   "metadata": {},
   "outputs": [],
   "source": [
    "cache.cache = (\"key1\", \"value1\")\n",
    "cache.cache = (\"key2\", \"value2\")\n",
    "cache.cache = (\"key3\", \"value3\")\n",
    "cache.cache = (\"key4\", \"value4\")\n",
    "cache.cache = (\"key5\", \"value5\")\n",
    "cache.cache = (\"key6\", \"value6\")"
   ]
  },
  {
   "cell_type": "code",
   "execution_count": 8,
   "id": "e3be8a73",
   "metadata": {},
   "outputs": [
    {
     "name": "stdout",
     "output_type": "stream",
     "text": [
      "LRU Cache:\n",
      "key1 : value1\n",
      "key2 : value2\n",
      "key3 : value3\n",
      "key4 : value4\n",
      "key5 : value5\n",
      "key6 : value6\n"
     ]
    }
   ],
   "source": [
    "cache.print_cache()"
   ]
  },
  {
   "cell_type": "code",
   "execution_count": 9,
   "id": "88053953",
   "metadata": {},
   "outputs": [
    {
     "data": {
      "text/plain": [
       "'value2'"
      ]
     },
     "execution_count": 9,
     "metadata": {},
     "output_type": "execute_result"
    }
   ],
   "source": [
    "#получаем значение по ключу\n",
    "cache.get(\"key2\")"
   ]
  },
  {
   "cell_type": "code",
   "execution_count": 10,
   "id": "cc1217ff",
   "metadata": {},
   "outputs": [],
   "source": [
    "#Обращаемся к элементам кэша (они будут перенесены в конец как \"использованные\")\n",
    "cache.cache = (\"key1\", \"value1\")\n",
    "cache.cache = (\"key2\", \"value2\")\n",
    "\n",
    "#и добавляем новый элемент\n",
    "cache.cache = (\"key7\", \"value7\")"
   ]
  },
  {
   "cell_type": "code",
   "execution_count": 11,
   "id": "f2894080",
   "metadata": {},
   "outputs": [
    {
     "name": "stdout",
     "output_type": "stream",
     "text": [
      "LRU Cache:\n",
      "key4 : value4\n",
      "key5 : value5\n",
      "key6 : value6\n",
      "key1 : value1\n",
      "key2 : value2\n",
      "key7 : value7\n"
     ]
    }
   ],
   "source": [
    "cache.print_cache()"
   ]
  },
  {
   "cell_type": "markdown",
   "id": "5dd018a0",
   "metadata": {},
   "source": [
    "Удален третий элемент, так как 1 и 2 недавно использовались, а 7 недавно добавлен. Удален 3 как давно добавленный и давно не использованный."
   ]
  },
  {
   "cell_type": "markdown",
   "id": "3a5af832",
   "metadata": {},
   "source": [
    "## Задача 3: Кэширование для ускорения вычислений"
   ]
  },
  {
   "cell_type": "markdown",
   "id": "93de9eac",
   "metadata": {},
   "source": [
    "Контекст\n",
    "Вы разрабатываете программу для оптимизации вычислений чисел Фибоначчи. Числа Фибоначчи вычисляются рекурсивной функцией, каждое число равно сумме двух предыдущих чисел. Однако вы заметили, что при больших значениях чисел Фибоначчи вычисления занимают значительное время, так как многие значения вычисляются повторно. Вам поручено создать декоратор, который кэширует результаты вызова функции и позволяет избежать повторных вычислений для одних и тех же аргументов.\n",
    "\n",
    "*Задача*\n",
    "\n",
    "Создайте декоратор, который кэширует (сохраняет для дальнейшего использования) результаты вызова функции и, при повторном вызове с теми же аргументами, возвращает сохранённый результат.\n",
    "\n",
    "Примените его к рекурсивной функции вычисления чисел Фибоначчи.\n",
    "В итоге декоратор должен проверять аргументы, с которыми вызывается функция, и, если такие аргументы уже использовались, должен вернуть сохранённый результат вместо запуска расчёта.\n",
    "\n",
    "*Советы*\n",
    "\n",
    "- Для хранения результатов удобно использовать словарь, так как поиск элементов внутри словаря будет иметь сложность, равную в среднем O(1).\n",
    "- При этом не стоит хранить все вычисления в одном словаре, созданном снаружи функций (в глобальной области видимости). Лучше создавать отдельные словари для каждой декорируемой функции."
   ]
  },
  {
   "cell_type": "code",
   "execution_count": 12,
   "id": "8961a218",
   "metadata": {},
   "outputs": [],
   "source": [
    "def repeat(func): \n",
    "    cache = dict() \n",
    "    def wrapper(n): \n",
    "        if n not in cache: \n",
    "            cache[n] = func(n) \n",
    "        return cache[n] \n",
    "    return wrapper \n",
    " \n",
    "@repeat \n",
    "def fibonacci(n): \n",
    "    if n < 2: \n",
    "        return n \n",
    "    return fibonacci(n-1) + fibonacci(n-2)"
   ]
  },
  {
   "cell_type": "code",
   "execution_count": 13,
   "id": "82e5cb21",
   "metadata": {},
   "outputs": [
    {
     "name": "stdout",
     "output_type": "stream",
     "text": [
      "Сумма всех чисел Фибоначчи до 1000:  43466557686937456435688527675040625802564660517371780402481729089536555417949051890403879840079255169295922593080322634775209689623239873322471161642996440906533187938298969649928516003704476137795166849228875\n",
      "Время вычисления: 1750.23 мс\n",
      "---------------------------------------------------------\n",
      "Сумма всех чисел Фибоначчи до 1000:  43466557686937456435688527675040625802564660517371780402481729089536555417949051890403879840079255169295922593080322634775209689623239873322471161642996440906533187938298969649928516003704476137795166849228875\n",
      "Время вычисления: 68.66 мс\n",
      "---------------------------------------------------------\n"
     ]
    }
   ],
   "source": [
    "import time\n",
    "\n",
    "for i in range(2):\n",
    "    t_start = time.time()\n",
    "    print(\"Сумма всех чисел Фибоначчи до 1000: \", fibonacci(1000))\n",
    "    t_end = time.time()\n",
    "    print(f\"Время вычисления: {round((t_end-t_start)*1000000,2)} мс\")\n",
    "    print(\"---------------------------------------------------------\")"
   ]
  },
  {
   "cell_type": "markdown",
   "id": "f4133e5b",
   "metadata": {},
   "source": [
    "Действительно, кэширование ускоряет вычисление суммы чисел Фибоначчи."
   ]
  },
  {
   "cell_type": "markdown",
   "id": "96464a45",
   "metadata": {},
   "source": [
    "## Задача 4: Крестики-нолики"
   ]
  },
  {
   "cell_type": "markdown",
   "id": "cb6905ed",
   "metadata": {},
   "source": [
    "Напишите программу, которая реализует игру Крестики-нолики. "
   ]
  },
  {
   "cell_type": "code",
   "execution_count": 14,
   "id": "4b2be02d",
   "metadata": {},
   "outputs": [
    {
     "name": "stdout",
     "output_type": "stream",
     "text": [
      " 1 | 2 | 3 \n",
      "---------\n",
      " 4 | 5 | 6 \n",
      "---------\n",
      " 7 | 8 | 9 \n",
      "Введите имя первого игрока: Аня\n",
      "Выберите крестик или нолик: 4\n",
      "Вы ввели неверный символ. Выберите крестик или нолик: а\n",
      "Вы ввели неверный символ. Выберите крестик или нолик: x\n",
      "Вы ввели неверный символ. Выберите крестик или нолик: X\n",
      "Введите имя второго игрока: Коля\n",
      "Коля, вы ходите 0\n",
      "Аня, введите номер клетки (1-9): 1\n",
      " X |   |   \n",
      "---------\n",
      "   |   |   \n",
      "---------\n",
      "   |   |   \n",
      "Коля, введите номер клетки (1-9): е\n",
      "Вы ввели неверное значение. Введите число от 1 до 9\n",
      "Коля, введите номер клетки (1-9): 5\n",
      " X |   |   \n",
      "---------\n",
      "   | 0 |   \n",
      "---------\n",
      "   |   |   \n",
      "Аня, введите номер клетки (1-9): 2\n",
      " X | X |   \n",
      "---------\n",
      "   | 0 |   \n",
      "---------\n",
      "   |   |   \n",
      "Коля, введите номер клетки (1-9): 8\n",
      " X | X |   \n",
      "---------\n",
      "   | 0 |   \n",
      "---------\n",
      "   | 0 |   \n",
      "Аня, введите номер клетки (1-9): 3\n",
      " X | X | X \n",
      "---------\n",
      "   | 0 |   \n",
      "---------\n",
      "   | 0 |   \n",
      "Победил игрок Аня!\n"
     ]
    }
   ],
   "source": [
    "class Cell:\n",
    "\n",
    "    def __init__(self, number): \n",
    "        self.number = number \n",
    "        self.value = ' ' \n",
    "    \n",
    "    def set_value(self, value): \n",
    "        if self.value == ' ': \n",
    "            self.value = value \n",
    "            return True \n",
    "        else: \n",
    "            return False \n",
    "\n",
    "class Board:\n",
    "\n",
    "    def __init__(self): \n",
    "        self.cells = [Cell(i) for i in range(1, 10)] \n",
    " \n",
    "    def display(self): \n",
    "        print(' 1 | 2 | 3 ') \n",
    "        print('---------') \n",
    "        print(' 4 | 5 | 6 ') \n",
    "        print('---------') \n",
    "        print(' 7 | 8 | 9 ') \n",
    "        \n",
    "    def update_board(self): \n",
    "        print(f' {self.cells[0].value} | {self.cells[1].value} | {self.cells[2].value} ') \n",
    "        print('---------') \n",
    "        print(f' {self.cells[3].value} | {self.cells[4].value} | {self.cells[5].value} ') \n",
    "        print('---------') \n",
    "        print(f' {self.cells[6].value} | {self.cells[7].value} | {self.cells[8].value} ')\n",
    "\n",
    "class Player:\n",
    "    \n",
    "    def __init__(self, name, symbol):\n",
    "        self.name = name \n",
    "        self.symbol = symbol\n",
    "\n",
    "    def play(self, board):\n",
    "        while True: \n",
    "            try:    \n",
    "                move = int(input(f'{self.name}, введите номер клетки (1-9): ')) \n",
    "                if 1 <= move <= 9 and board.cells[move - 1].set_value(self.symbol): \n",
    "                    break \n",
    "                elif move == 0 or move > 10: \n",
    "                    print('Вы ввели неверное значение. Введите число от 1 до 9')\n",
    "                else:\n",
    "                    print('Ячейка уже занята. Попробуйте еще раз') \n",
    "            except: \n",
    "                    print('Вы ввели неверное значение. Введите число от 1 до 9')\n",
    "                \n",
    "\n",
    "board = Board() \n",
    "board.display() \n",
    "\n",
    "try:\n",
    "    player1 = Player(input(\"Введите имя первого игрока: \"), str(input(\"Выберите крестик или нолик: \"))) \n",
    "    while True:\n",
    "        if player1.symbol not in ['X', '0']:\n",
    "            setattr(player1, 'symbol', str(input(\"Вы ввели неверный символ. Выберите крестик или нолик: \")))\n",
    "        else:\n",
    "            player2 = Player(input(\"Введите имя второго игрока: \"), \"0\" if player1.symbol == \"X\" else \"X\")\n",
    "            print(f'{player2.name}, вы ходите {player2.symbol}')\n",
    "            break\n",
    "except:\n",
    "    print(\"Что-то пошло не так...\")\n",
    "    \n",
    "current_player = player1 \n",
    " \n",
    "while True: \n",
    "    current_player.play(board) \n",
    "    board.update_board()   \n",
    "    if ((board.cells[0].value == board.cells[1].value == board.cells[2].value != ' ') or \n",
    "            (board.cells[3].value == board.cells[4].value == board.cells[5].value != ' ') or \n",
    "            (board.cells[6].value == board.cells[7].value == board.cells[8].value != ' ') or \n",
    "            (board.cells[0].value == board.cells[3].value == board.cells[6].value != ' ') or \n",
    "            (board.cells[1].value == board.cells[4].value == board.cells[7].value != ' ') or \n",
    "            (board.cells[2].value == board.cells[5].value == board.cells[8].value != ' ') or \n",
    "            (board.cells[0].value == board.cells[4].value == board.cells[8].value != ' ') or \n",
    "            (board.cells[2].value == board.cells[4].value == board.cells[6].value != ' ')): \n",
    "        print(f'Победил игрок {current_player.name}!') \n",
    "        break \n",
    "    elif all(cell.value != ' ' for cell in board.cells): \n",
    "        print('Ничья!') \n",
    "        break \n",
    " \n",
    "    current_player = player1 if current_player == player2 else player2"
   ]
  }
 ],
 "metadata": {
  "kernelspec": {
   "display_name": "Python 3 (ipykernel)",
   "language": "python",
   "name": "python3"
  },
  "language_info": {
   "codemirror_mode": {
    "name": "ipython",
    "version": 3
   },
   "file_extension": ".py",
   "mimetype": "text/x-python",
   "name": "python",
   "nbconvert_exporter": "python",
   "pygments_lexer": "ipython3",
   "version": "3.8.8"
  }
 },
 "nbformat": 4,
 "nbformat_minor": 5
}
