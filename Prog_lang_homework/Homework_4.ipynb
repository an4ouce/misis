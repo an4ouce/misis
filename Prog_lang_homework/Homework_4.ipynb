{
 "cells": [
  {
   "cell_type": "markdown",
   "id": "fdbc4e6f",
   "metadata": {},
   "source": [
    "# Домашнее задание 4: ООП"
   ]
  },
  {
   "cell_type": "markdown",
   "id": "c7a89a0c",
   "metadata": {},
   "source": [
    "## Задача 1:\n",
    "\n",
    "Создайте класс Point, экземпляры которого будут создаваться из координат x и y."
   ]
  },
  {
   "cell_type": "code",
   "execution_count": 1,
   "id": "222f3598",
   "metadata": {},
   "outputs": [],
   "source": [
    "class Point:\n",
    "    \n",
    "    def __init__(self, x, y):\n",
    "        self.x = x\n",
    "        self.y = y"
   ]
  },
  {
   "cell_type": "markdown",
   "id": "07249bd6",
   "metadata": {},
   "source": [
    "## Задача 2:"
   ]
  },
  {
   "cell_type": "markdown",
   "id": "8d611063",
   "metadata": {},
   "source": [
    "Создайте класс прямоугольник — Rectangle. Метод __init__ принимает две точки — левый нижний и правый верхний угол. Каждая точка представлена экземпляром класса Point. Реализуйте методы вычисления площади и периметра прямоугольника."
   ]
  },
  {
   "cell_type": "code",
   "execution_count": 2,
   "id": "4b7471df",
   "metadata": {},
   "outputs": [],
   "source": [
    "class Rectangle:\n",
    "    \n",
    "    def __init__(self, left_down = Point(1,2), right_up = Point(3,4)):\n",
    "        self.left_down = left_down\n",
    "        self.right_up = right_up\n",
    "        self.height = right_up.y - left_down.y\n",
    "        self.width = right_up.x - left_down.x\n",
    "        \n",
    "    def perim(self):\n",
    "        self.perim = (self.height*self.width)*2\n",
    "        return self.perim\n",
    "        \n",
    "    def area(self):\n",
    "        self.area = self.height*self.width\n",
    "        return self.area"
   ]
  },
  {
   "cell_type": "code",
   "execution_count": 3,
   "id": "73b9c42c",
   "metadata": {},
   "outputs": [
    {
     "name": "stdout",
     "output_type": "stream",
     "text": [
      "Площадь прямоугольника:  4\n",
      "Периметр прямоугольниа:  8\n"
     ]
    }
   ],
   "source": [
    "r = Rectangle()\n",
    "print(\"Площадь прямоугольника: \", r.area())\n",
    "print(\"Периметр прямоугольниа: \", r.perim())"
   ]
  },
  {
   "cell_type": "markdown",
   "id": "fa5e7637",
   "metadata": {},
   "source": [
    "## Задача 3:\n",
    "Добавьте в класс Rectangle метод contains. Метод принимает точку и возвращает True, если точка находится внутри прямоугольника и False в противном случае."
   ]
  },
  {
   "cell_type": "code",
   "execution_count": 4,
   "id": "79cba19e",
   "metadata": {},
   "outputs": [
    {
     "name": "stdout",
     "output_type": "stream",
     "text": [
      "Точка внутри прямоугольника?  False\n"
     ]
    }
   ],
   "source": [
    "class Rectangle:\n",
    "    \n",
    "    def __init__(self, left_down = Point(1,2), right_up = Point(3,4)):\n",
    "        self.left_down = left_down\n",
    "        self.right_up = right_up\n",
    "        self.height = right_up.y - left_down.y\n",
    "        self.width = right_up.x - left_down.x\n",
    "        \n",
    "    def perim(self):\n",
    "        self.perim = (self.height*self.width)*2\n",
    "        return self.perim\n",
    "        \n",
    "    def area(self):\n",
    "        self.area = self.height*self.width\n",
    "        return self.area\n",
    "\n",
    "    def contains(self, p = Point(10,3)):\n",
    "        self.p = p\n",
    "        if self.left_down.x <= p.x <= self.right_up.x and self.left_down.y <= p.y <= self.right_up.y:\n",
    "            return True\n",
    "        else:\n",
    "            return False\n",
    "\n",
    "r = Rectangle()\n",
    "print(\"Точка внутри прямоугольника? \", r.contains())"
   ]
  },
  {
   "cell_type": "markdown",
   "id": "8906fa3b",
   "metadata": {},
   "source": [
    "## Задача 4:\n",
    "\n",
    "Описать класс десятичного счётчика. Он должен обладать внутренней переменной, хранящей текущее значение, методами повышения значения (increment) и понижения (decrement), получения текущего значения get_counter. Учесть, что счётчик не может опускаться ниже 0."
   ]
  },
  {
   "cell_type": "code",
   "execution_count": 5,
   "id": "1dfceaac",
   "metadata": {},
   "outputs": [],
   "source": [
    "class Counter:\n",
    "    \n",
    "    current = 0\n",
    "    \n",
    "    def __init__(self, start, end):\n",
    "        self.start = start\n",
    "        self.end = end\n",
    "    \n",
    "    def increment(self):\n",
    "        if self.current == self.end:\n",
    "            return self.end\n",
    "        else:\n",
    "            self.current+=1\n",
    "            return self.current\n",
    "        \n",
    "    def decrement(self):\n",
    "        if self.current == self.start:\n",
    "            return self.start\n",
    "        else:\n",
    "            self.current-=1\n",
    "            return self.current\n",
    "        \n",
    "    def get_counter(self):\n",
    "        return self.current"
   ]
  },
  {
   "cell_type": "code",
   "execution_count": 6,
   "id": "678a0ec6",
   "metadata": {},
   "outputs": [],
   "source": [
    "c = Counter(0,10)"
   ]
  },
  {
   "cell_type": "code",
   "execution_count": 7,
   "id": "1da736d9",
   "metadata": {},
   "outputs": [
    {
     "data": {
      "text/plain": [
       "1"
      ]
     },
     "execution_count": 7,
     "metadata": {},
     "output_type": "execute_result"
    }
   ],
   "source": [
    "c.increment()"
   ]
  },
  {
   "cell_type": "code",
   "execution_count": 8,
   "id": "23cc4d9a",
   "metadata": {},
   "outputs": [
    {
     "data": {
      "text/plain": [
       "0"
      ]
     },
     "execution_count": 8,
     "metadata": {},
     "output_type": "execute_result"
    }
   ],
   "source": [
    "c.decrement()"
   ]
  },
  {
   "cell_type": "code",
   "execution_count": 9,
   "id": "9dbf359d",
   "metadata": {},
   "outputs": [
    {
     "data": {
      "text/plain": [
       "0"
      ]
     },
     "execution_count": 9,
     "metadata": {},
     "output_type": "execute_result"
    }
   ],
   "source": [
    "c.get_counter()"
   ]
  },
  {
   "cell_type": "markdown",
   "id": "8c6a902f",
   "metadata": {},
   "source": [
    "## Задача 5:\n",
    "\n",
    "Создать класс для часов. Должна быть возможность установить время при создании объекта. Также необходимо реализовать методы, с помощью которых можно добавлять по одной минуте/секунде или по одному часу к текущему времени. Помнить, что значения минут и секунд не могут превышать 59, а часов 23."
   ]
  },
  {
   "cell_type": "code",
   "execution_count": 10,
   "id": "139eb3ab",
   "metadata": {},
   "outputs": [],
   "source": [
    "class Clock:\n",
    "\n",
    "    def __init__(self, hour, minute, second):\n",
    "        self.hour = hour\n",
    "        self.minute = minute\n",
    "        self.second = second\n",
    "        \n",
    "    def increment_hour(self):\n",
    "        if self.hour >= 23:\n",
    "            self.hour = self.hour-23\n",
    "        else:\n",
    "            self.hour+=1\n",
    "        return self.hour\n",
    "    \n",
    "    def increment_minute(self):\n",
    "        if self.minute >= 59:\n",
    "            self.minute = self.minute-59\n",
    "        else:\n",
    "            self.minute+=1\n",
    "        return self.minute\n",
    "        \n",
    "    def increment_second(self):\n",
    "        if self.second >= 59:\n",
    "            self.second = self.second-59\n",
    "        else:\n",
    "            self.second+=1\n",
    "        return self.second\n",
    "    \n",
    "    def get_time(self):\n",
    "        if self.hour >= 24:\n",
    "            self.hour = self.hour-24\n",
    "            \n",
    "        if self.minute >= 60:\n",
    "            self.minute = self.minute-60\n",
    "\n",
    "        if self.second >= 60:\n",
    "            self.second = self.second-60\n",
    "        \n",
    "        return self.hour, self.minute, self.second"
   ]
  },
  {
   "cell_type": "code",
   "execution_count": 11,
   "id": "d3bf64f1",
   "metadata": {},
   "outputs": [],
   "source": [
    "c = Clock(22,59,59)"
   ]
  },
  {
   "cell_type": "code",
   "execution_count": 12,
   "id": "98bc3641",
   "metadata": {},
   "outputs": [
    {
     "data": {
      "text/plain": [
       "23"
      ]
     },
     "execution_count": 12,
     "metadata": {},
     "output_type": "execute_result"
    }
   ],
   "source": [
    "c.increment_hour()"
   ]
  },
  {
   "cell_type": "code",
   "execution_count": 13,
   "id": "5e9dac32",
   "metadata": {},
   "outputs": [
    {
     "data": {
      "text/plain": [
       "0"
      ]
     },
     "execution_count": 13,
     "metadata": {},
     "output_type": "execute_result"
    }
   ],
   "source": [
    "c.increment_minute()"
   ]
  },
  {
   "cell_type": "code",
   "execution_count": 14,
   "id": "bd9d0ec1",
   "metadata": {},
   "outputs": [
    {
     "data": {
      "text/plain": [
       "0"
      ]
     },
     "execution_count": 14,
     "metadata": {},
     "output_type": "execute_result"
    }
   ],
   "source": [
    "c.increment_second()"
   ]
  },
  {
   "cell_type": "code",
   "execution_count": 15,
   "id": "bd64002a",
   "metadata": {},
   "outputs": [
    {
     "data": {
      "text/plain": [
       "(23, 0, 0)"
      ]
     },
     "execution_count": 15,
     "metadata": {},
     "output_type": "execute_result"
    }
   ],
   "source": [
    "c.get_time()"
   ]
  },
  {
   "cell_type": "markdown",
   "id": "6a5f4a4b",
   "metadata": {},
   "source": [
    "## Задача 6:\n",
    "\n",
    "Доработать предыдущую задачу, чтобы можно было складывать двое часов друг с другом. Для перегрузки оператора + использовать метод __add__(self, other)."
   ]
  },
  {
   "cell_type": "code",
   "execution_count": 16,
   "id": "2f7ef57f",
   "metadata": {},
   "outputs": [],
   "source": [
    "class Clock:\n",
    "\n",
    "    def __init__(self, hour, minute, second):\n",
    "        self.hour = hour\n",
    "        self.minute = minute\n",
    "        self.second = second\n",
    "        \n",
    "    def increment_hour(self):\n",
    "        if self.hour >= 23:\n",
    "            self.hour = self.hour-23\n",
    "        else:\n",
    "            self.hour+=1\n",
    "        return self.hour\n",
    "    \n",
    "    def increment_minute(self):\n",
    "        if self.minute >= 59:\n",
    "            self.minute = self.minute-59\n",
    "        else:\n",
    "            self.minute+=1\n",
    "        return self.minute\n",
    "        \n",
    "    def increment_second(self):\n",
    "        if self.second >= 59:\n",
    "            self.second = self.second-59\n",
    "        else:\n",
    "            self.second+=1\n",
    "        return self.second\n",
    "    \n",
    "    def get_time(self):\n",
    "        if self.hour >= 24:\n",
    "            self.hour = self.hour-24\n",
    "            \n",
    "        if self.minute >= 60:\n",
    "            self.minute = self.minute-60\n",
    "        \n",
    "        if self.second >= 60:\n",
    "            self.second = self.second-60\n",
    "        return self.hour, self.minute, self.second\n",
    "    \n",
    "    def __add__(self, other):\n",
    "        return Clock(self.hour + other.hour, self.minute + other.minute, self.second + other.second)"
   ]
  },
  {
   "cell_type": "code",
   "execution_count": 17,
   "id": "ae6d7197",
   "metadata": {},
   "outputs": [
    {
     "data": {
      "text/plain": [
       "(1, 25, 25)"
      ]
     },
     "execution_count": 17,
     "metadata": {},
     "output_type": "execute_result"
    }
   ],
   "source": [
    "first_clock = Clock(23,23,23)\n",
    "other_clock = Clock(2,2,2)\n",
    "sum_clock = first_clock + other_clock\n",
    "sum_clock.get_time()"
   ]
  },
  {
   "cell_type": "markdown",
   "id": "27111b36",
   "metadata": {},
   "source": [
    "## Задача 7:\n",
    "\n",
    "Создать классы для травоядного животного и травы. Животное должно уметь поедать траву, если испытывает голод, в противном случае отказываться от лакомства. Трава должна обладать питательностью, в зависимости от которой животное будет насыщаться.\n"
   ]
  },
  {
   "cell_type": "code",
   "execution_count": 18,
   "id": "bba68b92",
   "metadata": {},
   "outputs": [],
   "source": [
    "class Animal:\n",
    "    \n",
    "    def __init__(self, animal, sytost):\n",
    "        self.animal = animal\n",
    "        self.sytost = sytost\n",
    "\n",
    "    def eat(self, sytost):\n",
    "        self.sytost+=sytost\n",
    "        if self.sytost >= 5: \n",
    "            return (\"Спасибо, я сыт\")\n",
    "        else:\n",
    "            return (\"Я поел, хочу еще\", self.sytost)\n",
    "            \n",
    "class Grass:\n",
    "    \n",
    "    def __init__(self, nutrition):\n",
    "        self.nutrition = nutrition"
   ]
  },
  {
   "cell_type": "code",
   "execution_count": 19,
   "id": "6cb28ac2",
   "metadata": {},
   "outputs": [],
   "source": [
    "animal = Animal(\"cow\", 0)\n",
    "grass = Grass(1)"
   ]
  },
  {
   "cell_type": "code",
   "execution_count": 20,
   "id": "1f00f87e",
   "metadata": {},
   "outputs": [
    {
     "data": {
      "text/plain": [
       "('Я поел, хочу еще', 1)"
      ]
     },
     "execution_count": 20,
     "metadata": {},
     "output_type": "execute_result"
    }
   ],
   "source": [
    "animal.eat(grass.nutrition)"
   ]
  },
  {
   "cell_type": "code",
   "execution_count": 21,
   "id": "8b927194",
   "metadata": {},
   "outputs": [
    {
     "data": {
      "text/plain": [
       "('Я поел, хочу еще', 2)"
      ]
     },
     "execution_count": 21,
     "metadata": {},
     "output_type": "execute_result"
    }
   ],
   "source": [
    "animal.eat(grass.nutrition)"
   ]
  },
  {
   "cell_type": "code",
   "execution_count": 22,
   "id": "0988f50e",
   "metadata": {},
   "outputs": [
    {
     "data": {
      "text/plain": [
       "('Я поел, хочу еще', 3)"
      ]
     },
     "execution_count": 22,
     "metadata": {},
     "output_type": "execute_result"
    }
   ],
   "source": [
    "animal.eat(grass.nutrition)"
   ]
  },
  {
   "cell_type": "code",
   "execution_count": 23,
   "id": "91ca6022",
   "metadata": {},
   "outputs": [
    {
     "data": {
      "text/plain": [
       "('Я поел, хочу еще', 4)"
      ]
     },
     "execution_count": 23,
     "metadata": {},
     "output_type": "execute_result"
    }
   ],
   "source": [
    "animal.eat(grass.nutrition)"
   ]
  },
  {
   "cell_type": "code",
   "execution_count": 24,
   "id": "8d9f9969",
   "metadata": {},
   "outputs": [
    {
     "data": {
      "text/plain": [
       "'Спасибо, я сыт'"
      ]
     },
     "execution_count": 24,
     "metadata": {},
     "output_type": "execute_result"
    }
   ],
   "source": [
    "animal.eat(grass.nutrition)"
   ]
  },
  {
   "cell_type": "markdown",
   "id": "50e6f297",
   "metadata": {},
   "source": [
    "## Задача 8:\n",
    "\n",
    "Для одной задачи необходимо реализовать следующее - при соединении двух элементов получается новый. У нас есть 4 базовых элемента: Вода, Воздух, Огонь, Земля. Из них как раз и получаются новые: Шторм, Пар, Грязь, Молния, Пыль, Лава.\n",
    "Вот таблица преобразований:\n",
    "  Вода + Воздух = Шторм \\\n",
    "  Вода + Огонь = Пар \\\n",
    "  Вода + Земля = Грязь \\\n",
    "  Воздух + Огонь = Молния \\\n",
    "  Воздух + Земля = Пыль \\\n",
    "  Огонь + Земля = Лава\n",
    "\n",
    "Напишите программу, которая реализует все эти элементы. Каждый элемент необходимо организовать как отдельный класс. Если результат не определен - то возвращается None.\n",
    "Примечание: сложение объектов можно реализовывать через магический метод add."
   ]
  },
  {
   "cell_type": "code",
   "execution_count": 25,
   "id": "91c4eccd",
   "metadata": {},
   "outputs": [],
   "source": [
    "class Water:\n",
    "    \n",
    "    def __str__(self):\n",
    "        return \"Вода\"\n",
    "    \n",
    "    def __add__(self, other):\n",
    "        if isinstance(other, Fire):\n",
    "            return Par()\n",
    "        elif isinstance(other, Air):\n",
    "            return Shtorm()\n",
    "        elif isinstance(other, Earth):\n",
    "            return Gryaz()\n",
    "        else:\n",
    "            return\n",
    "      \n",
    "    \n",
    "class Air:\n",
    "    \n",
    "    def __str__(self):\n",
    "        return \"Воздух\"\n",
    "    \n",
    "    def __add__(self, other):\n",
    "        if isinstance(other, Fire):\n",
    "            return Molniya()\n",
    "        elif isinstance(other, Water):\n",
    "            return Shtorm()\n",
    "        elif isinstance(other, Earth):\n",
    "            return Pyl()\n",
    "        else:\n",
    "            return\n",
    "    \n",
    "    \n",
    "class Fire:\n",
    "    \n",
    "    def __str__(self):\n",
    "        return \"Огонь\"\n",
    "    \n",
    "    def __add__(self, other):\n",
    "        if isinstance(other, Air):\n",
    "            return Molniya()\n",
    "        elif isinstance(other, Water):\n",
    "            return Par()\n",
    "        elif isinstance(other, Earth):\n",
    "            return Lava()\n",
    "        else:\n",
    "            return\n",
    "            \n",
    "class Earth:\n",
    "    \n",
    "    def __str__(self):\n",
    "        return \"Земля\"\n",
    "    \n",
    "    def __add__(self, other):\n",
    "        if isinstance(other, Water):\n",
    "            return Gryaz()\n",
    "        elif isinstance(other, Air):\n",
    "            return Pyl()\n",
    "        elif isinstance(other, Fire):\n",
    "            return Lava()\n",
    "        else:\n",
    "            return\n",
    "    \n",
    "    \n",
    "class Shtorm:\n",
    "    \n",
    "    def __str__(self):\n",
    "        return \"Шторм\"\n",
    "\n",
    "    \n",
    "class Par:\n",
    "    \n",
    "    def __str__(self):\n",
    "        return \"Пар\"\n",
    "\n",
    "     \n",
    "class Gryaz:\n",
    "    \n",
    "    def __str__(self):\n",
    "        return \"Грязь\"\n",
    "\n",
    "    \n",
    "class Molniya:\n",
    "    \n",
    "    def __str__(self):\n",
    "        return \"Молния\"\n",
    "\n",
    "    \n",
    "class Pyl:\n",
    "    \n",
    "    def __str__(self):\n",
    "        return \"Пыль\"\n",
    "\n",
    "    \n",
    "class Lava:\n",
    "    \n",
    "    def __str__(self):\n",
    "        return \"Лава\""
   ]
  },
  {
   "cell_type": "code",
   "execution_count": 26,
   "id": "e73083ce",
   "metadata": {},
   "outputs": [
    {
     "name": "stdout",
     "output_type": "stream",
     "text": [
      "Шторм\n"
     ]
    }
   ],
   "source": [
    "w = Water()\n",
    "a = Air()\n",
    "print(w+a)"
   ]
  },
  {
   "cell_type": "markdown",
   "id": "22f7f564",
   "metadata": {},
   "source": [
    "## Задача 9:\n",
    "\n",
    "Программа написана верно, однако содержит места потенциальных ошибок.\n",
    "найдите потенциальные источники ошибок (укажите номера строк в строке документации);\n",
    "используя конструкцию try добавьте в код обработку соответствующих исключений."
   ]
  },
  {
   "cell_type": "code",
   "execution_count": 27,
   "id": "65698906-fe77-4115-904d-7fd0bb0bb5f3",
   "metadata": {},
   "outputs": [
    {
     "name": "stdout",
     "output_type": "stream",
     "text": [
      "Список клиентов (3): \n",
      "1. Василий Иванов 100\n",
      "2. Екатерина Белых 1500\n",
      "3. Михаил Лермонтов 400\n",
      "Перевод от Екатерина Белых для Василий Иванов...\n",
      "Сумма = 1600\n",
      "На счету Екатерина Белых не хватает денег для перевода\n",
      "OK!\n",
      "Список клиентов (3): \n",
      "1. Василий Иванов 100\n",
      "2. Екатерина Белых 1500\n",
      "3. Михаил Лермонтов 400\n"
     ]
    }
   ],
   "source": [
    "class NoMoneyToWithdrawError(Exception):\n",
    "    def __init__(self, message):\n",
    "        super().__init__(message)\n",
    "\n",
    "\n",
    "class PaymentError(Exception):\n",
    "    def __init__(self, message):\n",
    "        super().__init__(message)\n",
    "\n",
    "\n",
    "def print_accounts(accounts):\n",
    "   #Печать аккаунтов\n",
    "    print(\"Список клиентов ({}): \".format(len(accounts)))\n",
    "    for i, (name, value) in enumerate(accounts.items(), start=1):\n",
    "        print(\"{}. {} {}\".format(i, name, value))\n",
    "\n",
    "\n",
    "def transfer_money(accounts, account_from, account_to, value):\n",
    "   #Выполнить перевод 'value' денег со счета 'account_from' на 'account_to'.\n",
    "\n",
    "   #При переводе денежных средств необходимо учитывать:\n",
    "       #- хватает ли денег на счету, с которого осуществляется перевод;\n",
    "       #- перевод состоит из уменьшения баланса первого счета и увеличения\n",
    "         #баланса второго; если хотя бы на одном этапе происходит ошибка,\n",
    "         #аккаунты должны быть приведены в первоначальное состояние\n",
    "         #(механизм транзакции)\n",
    "         #см. https://ru.wikipedia.org/wiki/Транзакция_(информатика).\n",
    "\n",
    "   #Исключения (raise):\n",
    "       #- NoMoneyToWithdrawError: на счету 'account_from'\n",
    "                                 #не хватает денег для перевода;\n",
    "       #- PaymentError: ошибка при переводе.\n",
    "   #\"\"\"\n",
    "    \n",
    "        try:\n",
    "            if accounts[account_from] < value:\n",
    "                NoMoneyToWithdrawError(print(f\"На счету {account_from} не хватает денег для перевода\"))\n",
    "            else:\n",
    "                accounts[account_from]-=value\n",
    "                accounts[account_to]+=value\n",
    "        except:\n",
    "            PaymentError(print(\"Ошибка при переводе\"))\n",
    "            accounts[account_from]+=value\n",
    "            accounts[account_to]-=value\n",
    "\n",
    "            \n",
    "if __name__ == \"__main__\":\n",
    "    accounts = {\n",
    "       \"Василий Иванов\": 100,\n",
    "       \"Екатерина Белых\": 1500,\n",
    "       \"Михаил Лермонтов\": 400\n",
    "   }\n",
    "    print_accounts(accounts)\n",
    "\n",
    "    payment_info = {\n",
    "       \"account_from\": \"Екатерина Белых\",\n",
    "       \"account_to\": \"Василий Иванов\"\n",
    "   }\n",
    "\n",
    "    print(\"Перевод от {account_from} для {account_to}...\".\n",
    "         format(**payment_info))\n",
    "\n",
    "    payment_info[\"value\"] = int(input(\"Сумма = \"))\n",
    "\n",
    "    transfer_money(accounts, **payment_info)\n",
    "\n",
    "    print(\"OK!\")\n",
    "\n",
    "    print_accounts(accounts)"
   ]
  },
  {
   "cell_type": "markdown",
   "id": "cd6cedb2",
   "metadata": {},
   "source": [
    "## Задача 10:"
   ]
  },
  {
   "cell_type": "markdown",
   "id": "f5c64bc9",
   "metadata": {},
   "source": [
    "Напишите программу, которая будет суммировать все числа, введенные пользователем, игнорируя при этом нечисловой ввод. Выводите на экран текущую сумму чисел после каждого очередного ввода. Ввод пользователем значения, не являющегося числовым, должен приводить к появлению соответствующего предупреждения, после чего пользователю должно быть предложено ввести следующее число. Выход из программы будет осуществляться путем пропуска ввода. Удостоверьтесь, что ваша программа корректно обрабатывает целочисленные значения и числа с плавающей запятой."
   ]
  },
  {
   "cell_type": "code",
   "execution_count": 28,
   "id": "1d304fd3",
   "metadata": {
    "scrolled": false
   },
   "outputs": [
    {
     "name": "stdout",
     "output_type": "stream",
     "text": [
      "Введите число или нажмите Enter для выхода: 2\n",
      "Сумма введенных чисел равна  2.0\n",
      "Введите число или нажмите Enter для выхода: 2.5\n",
      "Сумма введенных чисел равна  4.5\n",
      "Введите число или нажмите Enter для выхода: 4\n",
      "Сумма введенных чисел равна  8.5\n",
      "Введите число или нажмите Enter для выхода: e\n",
      "Вы ввели не число\n",
      "Введите число или нажмите Enter для выхода: 5.6\n",
      "Сумма введенных чисел равна  14.1\n",
      "Введите число или нажмите Enter для выхода: \n"
     ]
    }
   ],
   "source": [
    "class InputError(Exception):\n",
    "    def __init__(self, message):\n",
    "        super().__init__(message)\n",
    "    \n",
    "    \n",
    "if __name__ == \"__main__\":   \n",
    "    sum=0\n",
    "    while True:\n",
    "        i = input(\"Введите число или нажмите Enter для выхода: \")\n",
    "        if not i:\n",
    "            break\n",
    "        try:\n",
    "            sum+=float(i)\n",
    "            print(\"Сумма введенных чисел равна \", sum)\n",
    "        except:\n",
    "            print(InputError(\"Вы ввели не число\"))"
   ]
  },
  {
   "cell_type": "markdown",
   "id": "3076e05e",
   "metadata": {},
   "source": [
    "## Задача 11:\n",
    "\n",
    "Напишите программу, выполняющую перевод из буквенных оценок в числовые и обратно. Программа должна позволять пользователю вводить несколько значений для перевода – по одному в каждой строке. Для начала предпримите попытку сконвертировать введенное пользователем значение из числового в буквенное. Если возникнет исключение, попробуйте выполнить обратное преобразование – из буквенного в числовое. Если и эта попытка окончится неудачей, выведите предупреждение о том, что введенное значение не является допустимым. Пусть ваша программа конвертирует оценки до тех пор, пока пользователь не оставит ввод пустым."
   ]
  },
  {
   "cell_type": "code",
   "execution_count": 30,
   "id": "39f86f51",
   "metadata": {},
   "outputs": [
    {
     "name": "stdout",
     "output_type": "stream",
     "text": [
      "Введите значение для конвертации или нажмите Enter для выхода: 1\n",
      "Вы ввели несоответствующее значение, введите еще раз: \n",
      "Введите значение для конвертации или нажмите Enter для выхода: 5\n",
      "Значение 5 после конвертации: A\n",
      "Введите значение для конвертации или нажмите Enter для выхода: A\n",
      "Значение A после конвертации: 5\n",
      "Введите значение для конвертации или нажмите Enter для выхода: D\n",
      "Значение D после конвертации: 3\n",
      "Введите значение для конвертации или нажмите Enter для выхода: 3\n",
      "Значение 3 после конвертации: ('D', 'E')\n",
      "Введите значение для конвертации или нажмите Enter для выхода: \n"
     ]
    }
   ],
   "source": [
    "d = {\"5\": \"A\", \"2\": \"P\", \"4\": (\"B\",\"C\"), \"3\": (\"D\", \"E\")}\n",
    "    \n",
    "\n",
    "def convert_from_num(n):\n",
    "    print(f\"Значение {n} после конвертации: {[value for key, value in d.items() if n == key][0]}\")\n",
    "\n",
    "def convert_from_alf(n):\n",
    "    print(f\"Значение {n} после конвертации: {[key for key, value in d.items() if n in value][0]}\")\n",
    "\n",
    "if __name__ == \"__main__\":   \n",
    "    while True:\n",
    "        i = input(\"Введите значение для конвертации или нажмите Enter для выхода: \")\n",
    "        if not i:\n",
    "            break\n",
    "        try:\n",
    "            convert_from_num(i)\n",
    "        except Exception as e:\n",
    "            try:\n",
    "                convert_from_alf(i)\n",
    "            except:\n",
    "                print(\"Вы ввели несоответствующее значение, введите еще раз: \")"
   ]
  }
 ],
 "metadata": {
  "kernelspec": {
   "display_name": "Python 3 (ipykernel)",
   "language": "python",
   "name": "python3"
  },
  "language_info": {
   "codemirror_mode": {
    "name": "ipython",
    "version": 3
   },
   "file_extension": ".py",
   "mimetype": "text/x-python",
   "name": "python",
   "nbconvert_exporter": "python",
   "pygments_lexer": "ipython3",
   "version": "3.8.8"
  }
 },
 "nbformat": 4,
 "nbformat_minor": 5
}
