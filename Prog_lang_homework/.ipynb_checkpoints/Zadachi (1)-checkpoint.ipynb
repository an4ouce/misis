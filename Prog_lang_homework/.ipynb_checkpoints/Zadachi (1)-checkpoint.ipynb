{
 "cells": [
  {
   "cell_type": "code",
   "execution_count": 763,
   "id": "828d266f-ddc1-4044-9432-89e6ee4ee21f",
   "metadata": {},
   "outputs": [
    {
     "name": "stdin",
     "output_type": "stream",
     "text": [
      "Количество чисел:  5\n"
     ]
    }
   ],
   "source": [
    "n = int(input(\"Количество чисел: \"))"
   ]
  },
  {
   "cell_type": "code",
   "execution_count": 764,
   "id": "1baf43e8-b39c-4097-abd0-12cbc7b1a3ef",
   "metadata": {},
   "outputs": [
    {
     "name": "stdin",
     "output_type": "stream",
     "text": [
      "Число:  1\n",
      "Число:  2\n",
      "Число:  2\n",
      "Число:  1\n",
      "Число:  1\n"
     ]
    },
    {
     "name": "stdout",
     "output_type": "stream",
     "text": [
      "Последовательность: [1, 2, 2, 1, 1]\n"
     ]
    }
   ],
   "source": [
    "list_start = []\n",
    "\n",
    "for k in range(n):\n",
    "    c = int(input(\"Число: \"))\n",
    "    list_start.append(c)\n",
    "            \n",
    "print(f\"Последовательность: {list_start}\")"
   ]
  },
  {
   "cell_type": "code",
   "execution_count": 765,
   "id": "f1617501-713d-4e1e-8759-208563efc4ec",
   "metadata": {},
   "outputs": [],
   "source": [
    "list_rev = list(reversed(list_start))\n",
    "\n",
    "list1 = []\n",
    "list_end = []\n",
    "\n",
    "for i in list_rev:\n",
    "    for index, j in enumerate(list_rev):\n",
    "        if i != j:\n",
    "            list1.append([index,i,j])\n",
    "            break\n",
    "    break"
   ]
  },
  {
   "cell_type": "code",
   "execution_count": 766,
   "id": "1b1585de-fa79-4304-8ee9-d60e52ebc65a",
   "metadata": {},
   "outputs": [],
   "source": [
    "for index, i in enumerate(list_rev):\n",
    "    if list1 != [] and index >= list1[0][0]:\n",
    "        list_end.append(i)"
   ]
  },
  {
   "cell_type": "code",
   "execution_count": 767,
   "id": "4dce56d5-0acc-456d-ba86-0be455618286",
   "metadata": {},
   "outputs": [
    {
     "name": "stdout",
     "output_type": "stream",
     "text": [
      "Нужно приписать чисел: 3\n",
      "Сами числа: [2, 2, 1]\n"
     ]
    }
   ],
   "source": [
    "print(f\"Нужно приписать чисел: {len(list_end)}\")\n",
    "if len(list_end) != 0:\n",
    "    print(f\"Сами числа: {list_end}\")"
   ]
  },
  {
   "cell_type": "code",
   "execution_count": 215,
   "id": "d4618e17-bf39-4bd4-b7ac-915c21912df4",
   "metadata": {},
   "outputs": [],
   "source": [
    "list_start.extend(list_end)"
   ]
  },
  {
   "cell_type": "code",
   "execution_count": 216,
   "id": "16acdb9f-4d65-44d3-b39f-66db9fad3541",
   "metadata": {},
   "outputs": [
    {
     "data": {
      "text/plain": [
       "[1, 2, 3, 4, 5, 4, 3, 2, 1]"
      ]
     },
     "execution_count": 216,
     "metadata": {},
     "output_type": "execute_result"
    }
   ],
   "source": [
    "list_start"
   ]
  },
  {
   "cell_type": "code",
   "execution_count": 453,
   "id": "60c2acc8-56dc-4eb7-8f96-56ec82ad493d",
   "metadata": {},
   "outputs": [
    {
     "name": "stdin",
     "output_type": "stream",
     "text": [
      "Количество друзей:  3\n",
      "Количество расписок:  3\n"
     ]
    }
   ],
   "source": [
    "n = int(input(\"Количество друзей: \"))\n",
    "k = int(input(\"Количество расписок: \"))"
   ]
  },
  {
   "cell_type": "code",
   "execution_count": 454,
   "id": "61e4903f-613f-4342-b30c-b740f739f587",
   "metadata": {},
   "outputs": [
    {
     "name": "stdin",
     "output_type": "stream",
     "text": [
      "Кому:  1\n",
      "От кого:  2\n",
      "Сколько:  100\n",
      "Кому:  2\n",
      "От кого:  3\n",
      "Сколько:  300\n",
      "Кому:  2\n",
      "От кого:  3\n",
      "Сколько:  50\n"
     ]
    },
    {
     "name": "stdout",
     "output_type": "stream",
     "text": [
      "[{'vzyal': 1, 'dal': 2, 'money': 100}, {'vzyal': 2, 'dal': 3, 'money': 300}, {'vzyal': 2, 'dal': 3, 'money': 50}]\n"
     ]
    }
   ],
   "source": [
    "s = dict()\n",
    "l = []\n",
    "\n",
    "for i in range(1, k+1):\n",
    "    s['vzyal'] = int(input(\"Кому: \"))\n",
    "    s['dal'] = int(input(\"От кого: \"))\n",
    "    s['money'] = int(input(\"Сколько: \"))\n",
    "    l.append(s.copy())"
   ]
  },
  {
   "cell_type": "code",
   "execution_count": 455,
   "id": "ca3e75b8-c9c2-4299-b9ea-01206d36c2d3",
   "metadata": {},
   "outputs": [
    {
     "name": "stdout",
     "output_type": "stream",
     "text": [
      "Баланс друзей: \n",
      "1: -100\n",
      "2: -250\n",
      "3: 350\n"
     ]
    }
   ],
   "source": [
    "dict_new = dict()\n",
    "\n",
    "for j in range(1, n+1):\n",
    "    sum_vzyal = 0\n",
    "    sum_dal = 0\n",
    "    for i in range(len(l)):\n",
    "        if l[i]['vzyal'] == j:\n",
    "            sum_vzyal-=l[i]['money']\n",
    "        elif l[i]['dal'] == j:\n",
    "            sum_dal+=l[i]['money']\n",
    "    dict_new[j] = sum_vzyal+sum_dal\n",
    "\n",
    "print(\"Баланс друзей: \")\n",
    "for key, value in dict_new.items():\n",
    "    print(f\"{key}: {value}\")"
   ]
  },
  {
   "cell_type": "code",
   "execution_count": 824,
   "id": "0b14881c-1f6e-407b-b703-e149e640edd0",
   "metadata": {},
   "outputs": [],
   "source": [
    "l = [1,2,3,4,5]\n",
    "\n"
   ]
  },
  {
   "cell_type": "code",
   "execution_count": 825,
   "id": "d853d2ce-27ae-4c6f-9227-54e7e2c3e3bf",
   "metadata": {},
   "outputs": [],
   "source": [
    "t = 0\n",
    "   \n",
    "s = 0"
   ]
  },
  {
   "cell_type": "code",
   "execution_count": 826,
   "id": "aba6726b-3402-4f62-bc01-5b7ccb4a449b",
   "metadata": {},
   "outputs": [
    {
     "name": "stdout",
     "output_type": "stream",
     "text": [
      "0\n",
      "1\n",
      "[1, 3, 4, 5]\n",
      "1\n",
      "1\n"
     ]
    }
   ],
   "source": [
    "print(t)\n",
    "s = (7 % (len(l)))+(t%len(l))-1\n",
    "print(s)\n",
    "l.pop(s)\n",
    "t = s\n",
    "print(l)\n",
    "print(t)\n",
    "print(s)"
   ]
  },
  {
   "cell_type": "code",
   "execution_count": 827,
   "id": "f15ab4c0-f96f-492f-afa3-e82016918cef",
   "metadata": {},
   "outputs": [
    {
     "name": "stdout",
     "output_type": "stream",
     "text": [
      "1\n",
      "3\n",
      "[1, 3, 4]\n",
      "3\n",
      "3\n"
     ]
    }
   ],
   "source": [
    "print(t)\n",
    "s = (7 % (len(l)))+(t%len(l))-1\n",
    "print(s)\n",
    "l.pop(s)\n",
    "t = s\n",
    "print(l)\n",
    "print(t)\n",
    "print(s)"
   ]
  },
  {
   "cell_type": "code",
   "execution_count": 828,
   "id": "73d513be-7f83-408e-9877-cb33ad5ecfda",
   "metadata": {},
   "outputs": [
    {
     "name": "stdout",
     "output_type": "stream",
     "text": [
      "3\n",
      "0\n",
      "[3, 4]\n",
      "0\n",
      "0\n"
     ]
    }
   ],
   "source": [
    "print(t)\n",
    "s = (7 % (len(l)))+(t%len(l))-1\n",
    "print(s)\n",
    "l.pop(s)\n",
    "t = s\n",
    "print(l)\n",
    "print(t)\n",
    "print(s)"
   ]
  },
  {
   "cell_type": "code",
   "execution_count": 829,
   "id": "dcde57c0-1f81-430f-9405-b2ad8f21e2c2",
   "metadata": {},
   "outputs": [
    {
     "name": "stdout",
     "output_type": "stream",
     "text": [
      "0\n",
      "0\n",
      "[4]\n",
      "0\n",
      "0\n"
     ]
    }
   ],
   "source": [
    "print(t)\n",
    "s = (7 % (len(l)))+(t%len(l))-1\n",
    "print(s)\n",
    "l.pop(s)\n",
    "t = s\n",
    "print(l)\n",
    "print(t)\n",
    "print(s)"
   ]
  },
  {
   "cell_type": "code",
   "execution_count": 830,
   "id": "1da9258f-aafb-4095-b2aa-d08441856da1",
   "metadata": {},
   "outputs": [
    {
     "name": "stdout",
     "output_type": "stream",
     "text": [
      "0\n",
      "-1\n",
      "[]\n",
      "-1\n",
      "-1\n"
     ]
    }
   ],
   "source": [
    "print(t)\n",
    "s = (7 % (len(l)))+(t%len(l))-1\n",
    "print(s)\n",
    "l.pop(s)\n",
    "t = s\n",
    "print(l)\n",
    "print(t)\n",
    "print(s)"
   ]
  },
  {
   "cell_type": "code",
   "execution_count": 807,
   "id": "ca42a9e9-f4d1-4db9-85e0-38329bad4b79",
   "metadata": {},
   "outputs": [
    {
     "name": "stdout",
     "output_type": "stream",
     "text": [
      "4\n",
      "1\n",
      "1\n",
      "[1, 4, 5]\n",
      "4\n",
      "1\n",
      "1\n"
     ]
    }
   ],
   "source": [
    "\n",
    "print(s)"
   ]
  },
  {
   "cell_type": "code",
   "execution_count": null,
   "id": "c9587a00-f590-492d-8b79-6df09022465c",
   "metadata": {},
   "outputs": [],
   "source": []
  }
 ],
 "metadata": {
  "kernelspec": {
   "display_name": "Python 3 (ipykernel)",
   "language": "python",
   "name": "python3"
  },
  "language_info": {
   "codemirror_mode": {
    "name": "ipython",
    "version": 3
   },
   "file_extension": ".py",
   "mimetype": "text/x-python",
   "name": "python",
   "nbconvert_exporter": "python",
   "pygments_lexer": "ipython3",
   "version": "3.8.8"
  }
 },
 "nbformat": 4,
 "nbformat_minor": 5
}
