{
 "cells": [
  {
   "cell_type": "code",
   "execution_count": 202,
   "id": "828d266f-ddc1-4044-9432-89e6ee4ee21f",
   "metadata": {},
   "outputs": [
    {
     "name": "stdin",
     "output_type": "stream",
     "text": [
      "Количество чисел:  5\n"
     ]
    }
   ],
   "source": [
    "n = int(input(\"Количество чисел: \"))"
   ]
  },
  {
   "cell_type": "code",
   "execution_count": 211,
   "id": "1baf43e8-b39c-4097-abd0-12cbc7b1a3ef",
   "metadata": {},
   "outputs": [
    {
     "name": "stdin",
     "output_type": "stream",
     "text": [
      "Число:  1\n",
      "Число:  2\n",
      "Число:  3\n",
      "Число:  4\n",
      "Число:  5\n"
     ]
    },
    {
     "name": "stdout",
     "output_type": "stream",
     "text": [
      "Последовательность: [1, 2, 3, 4, 5]\n"
     ]
    }
   ],
   "source": [
    "list_start = []\n",
    "\n",
    "for k in range(n):\n",
    "    c = int(input(\"Число: \"))\n",
    "    list_start.append(c)\n",
    "            \n",
    "print(f\"Последовательность: {list_start}\")"
   ]
  },
  {
   "cell_type": "code",
   "execution_count": 212,
   "id": "f1617501-713d-4e1e-8759-208563efc4ec",
   "metadata": {},
   "outputs": [],
   "source": [
    "list_rev = list(reversed(list_start))\n",
    "\n",
    "list1 = []\n",
    "list_end = []\n",
    "\n",
    "for i in list_rev:\n",
    "    for index, j in enumerate(list_rev):\n",
    "        if i != j:\n",
    "            list1.append([index,i,j])\n",
    "            break\n",
    "    break"
   ]
  },
  {
   "cell_type": "code",
   "execution_count": 213,
   "id": "1b1585de-fa79-4304-8ee9-d60e52ebc65a",
   "metadata": {},
   "outputs": [],
   "source": [
    "for index, i in enumerate(list_rev):\n",
    "    if list1 != [] and index >= list1[0][0]:\n",
    "        list_end.append(i)"
   ]
  },
  {
   "cell_type": "code",
   "execution_count": 214,
   "id": "4dce56d5-0acc-456d-ba86-0be455618286",
   "metadata": {},
   "outputs": [
    {
     "name": "stdout",
     "output_type": "stream",
     "text": [
      "Нужно приписать чисел: 4\n",
      "Сами числа: [4, 3, 2, 1]\n"
     ]
    }
   ],
   "source": [
    "print(f\"Нужно приписать чисел: {len(list_end)}\")\n",
    "if len(list_end) != 0:\n",
    "    print(f\"Сами числа: {list_end}\")"
   ]
  },
  {
   "cell_type": "code",
   "execution_count": 215,
   "id": "d4618e17-bf39-4bd4-b7ac-915c21912df4",
   "metadata": {},
   "outputs": [],
   "source": [
    "list_start.extend(list_end)"
   ]
  },
  {
   "cell_type": "code",
   "execution_count": 216,
   "id": "16acdb9f-4d65-44d3-b39f-66db9fad3541",
   "metadata": {},
   "outputs": [
    {
     "data": {
      "text/plain": [
       "[1, 2, 3, 4, 5, 4, 3, 2, 1]"
      ]
     },
     "execution_count": 216,
     "metadata": {},
     "output_type": "execute_result"
    }
   ],
   "source": [
    "list_start"
   ]
  },
  {
   "cell_type": "code",
   "execution_count": 336,
   "id": "c7239f69-9eab-473d-bea8-8aece41c310d",
   "metadata": {},
   "outputs": [],
   "source": [
    "n = 5\n",
    "k = 7"
   ]
  },
  {
   "cell_type": "code",
   "execution_count": 350,
   "id": "f6fbc021-f151-4335-bc20-90e367d6ad13",
   "metadata": {},
   "outputs": [],
   "source": [
    "list1 = [1,2,3,4,5]\n",
    "list2 = [1,2,3,4,5,6,7]"
   ]
  },
  {
   "cell_type": "code",
   "execution_count": 352,
   "id": "46eb931a-52a4-4570-a1b8-1a79b259f738",
   "metadata": {},
   "outputs": [
    {
     "name": "stdout",
     "output_type": "stream",
     "text": [
      "1\n",
      "2\n",
      "3\n",
      "4\n",
      "5\n",
      "1\n",
      "2\n",
      "3\n",
      "4\n",
      "5\n",
      "1\n",
      "2\n",
      "3\n",
      "4\n",
      "5\n",
      "1\n",
      "2\n",
      "3\n",
      "4\n",
      "5\n",
      "1\n",
      "2\n",
      "3\n",
      "4\n",
      "5\n",
      "1\n",
      "2\n",
      "3\n",
      "4\n",
      "5\n",
      "1\n",
      "2\n",
      "3\n",
      "4\n",
      "5\n"
     ]
    }
   ],
   "source": [
    "for i in list2:\n",
    "    if len(list1) < len(list2):\n",
    "        for i in list1:\n",
    "            print(i)\n"
   ]
  },
  {
   "cell_type": "code",
   "execution_count": 334,
   "id": "7dcc32c0-54f9-4a1d-921f-95064adbb47f",
   "metadata": {},
   "outputs": [
    {
     "data": {
      "text/plain": [
       "2"
      ]
     },
     "execution_count": 334,
     "metadata": {},
     "output_type": "execute_result"
    }
   ],
   "source": [
    "list3.pop(6)"
   ]
  },
  {
   "cell_type": "code",
   "execution_count": null,
   "id": "60c2acc8-56dc-4eb7-8f96-56ec82ad493d",
   "metadata": {},
   "outputs": [],
   "source": []
  }
 ],
 "metadata": {
  "kernelspec": {
   "display_name": "Python 3 (ipykernel)",
   "language": "python",
   "name": "python3"
  },
  "language_info": {
   "codemirror_mode": {
    "name": "ipython",
    "version": 3
   },
   "file_extension": ".py",
   "mimetype": "text/x-python",
   "name": "python",
   "nbconvert_exporter": "python",
   "pygments_lexer": "ipython3",
   "version": "3.8.8"
  }
 },
 "nbformat": 4,
 "nbformat_minor": 5
}
